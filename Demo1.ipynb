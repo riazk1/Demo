{
 "cells": [
  {
   "cell_type": "code",
   "execution_count": 1,
   "id": "4c893b79",
   "metadata": {},
   "outputs": [],
   "source": [
    "import numpy as np\n",
    "import matplotlib.pyplot as plt\n",
    "from IPython.display import display, Math, Latex\n",
    "import math"
   ]
  },
  {
   "cell_type": "code",
   "execution_count": 2,
   "id": "9b0c6967",
   "metadata": {},
   "outputs": [],
   "source": [
    "# This plots the vertices of the polygon defined by the points\n",
    "# (x0, y0), (x1, y1),...,(xn-1, yn-1)\n",
    "def plot_polygon_points(polygon):\n",
    "    listx = []\n",
    "    listy = []\n",
    "    i = 0\n",
    "    while(i < len(polygon)):\n",
    "        listx.append(polygon[i][0])\n",
    "        listy.append(polygon[i][1])\n",
    "        i=i+1\n",
    "    plt.scatter(listx, listy)"
   ]
  },
  {
   "cell_type": "code",
   "execution_count": 3,
   "id": "6e866a77",
   "metadata": {},
   "outputs": [],
   "source": [
    "# This plots the polygon given by the points \n",
    "# (x0,y0),(x1,y1),..., (xn-1, yn-1)\n",
    "def plot_polygon(polygon):\n",
    "    listx = [] \n",
    "    listx.append(polygon[-1][0])\n",
    "    listy = []\n",
    "    listy.append(polygon[-1][1])\n",
    "    i = 0\n",
    "    while(i < len(polygon)):\n",
    "        listx.append(polygon[i][0])\n",
    "        listy.append(polygon[i][1])\n",
    "        i=i+1\n",
    "    plt.plot(listx, listy)"
   ]
  },
  {
   "cell_type": "markdown",
   "id": "72eed965",
   "metadata": {},
   "source": [
    "**Lemma**\n",
    "Let $\\Delta$ be a lattice triangle in $R^2$. Then $\\Delta$ is unimodularly equivalent  to a lattice triangle $\\triangle$ with vertices $(0,0), (b,0)$ and $(m,h)$ with the integers $b,m,h$ satisfying the following inequalities. \n",
    "\n",
    "$ b,h > 0; m\\ge 0; m< h;$\n",
    "\n",
    "$b \\ge \\gcd(m,h), \\gcd(m-b,h).$\n",
    "\n",
    "$($Remark: The inequality  $b \\ge \\gcd(m,h), \\gcd(m-b,h)$ ensures that the horizontal base of $\\triangle$ does ${\\bf not}$ contain fewer lattice points than either of the other two sides of $\\triangle$.$)$"
   ]
  },
  {
   "cell_type": "code",
   "execution_count": 4,
   "id": "4c292a34",
   "metadata": {},
   "outputs": [],
   "source": [
    "# Given a list of two points [(p1, p2), (s1, s2)] we check to see which\n",
    "# should be assigned to be (u1, u2) and (v1, v2). This also carries out \n",
    "# the appropriate translation if needed\n",
    "def chk(u_and_v):\n",
    "    p1, p2 = u_and_v[0]\n",
    "    s1, s2 = u_and_v[1]\n",
    "    if (math.gcd(p1, p2)>= math.gcd(s1,s2) and math.gcd(p1,p2)>= math.gcd(p1-s1, p2-s2)):\n",
    "        return(p1, p2, s1, s2)\n",
    "    elif(math.gcd(s1, s2)>= math.gcd(p1-s1,p2-s2)):\n",
    "        return(s1, s2, p1, p2)\n",
    "    else:\n",
    "        return(p1-s1, p2-s2, -s1, -s2)"
   ]
  },
  {
   "cell_type": "code",
   "execution_count": 5,
   "id": "79901f34",
   "metadata": {},
   "outputs": [
    {
     "data": {
      "text/plain": [
       "(2, 4, 2, 3)"
      ]
     },
     "execution_count": 5,
     "metadata": {},
     "output_type": "execute_result"
    },
    {
     "data": {
      "image/png": "[encoded data removed]",
      "text/plain": [
       "<Figure size 432x288 with 1 Axes>"
      ]
     },
     "metadata": {
      "needs_background": "light"
     },
     "output_type": "display_data"
    }
   ],
   "source": [
    "plot_polygon([(0,0),(2,4), (2,3), (0,0)])\n",
    "chk([(2,4), (2,3)])"
   ]
  },
  {
   "cell_type": "code",
   "execution_count": null,
   "id": "f3d796a7",
   "metadata": {},
   "outputs": [],
   "source": []
  }
 ],
 "metadata": {
  "kernelspec": {
   "display_name": "Python 3 (ipykernel)",
   "language": "python",
   "name": "python3"
  },
  "language_info": {
   "codemirror_mode": {
    "name": "ipython",
    "version": 3
   },
   "file_extension": ".py",
   "mimetype": "text/x-python",
   "name": "python",
   "nbconvert_exporter": "python",
   "pygments_lexer": "ipython3",
   "version": "3.10.12"
  }
 },
 "nbformat": 4,
 "nbformat_minor": 5
}
